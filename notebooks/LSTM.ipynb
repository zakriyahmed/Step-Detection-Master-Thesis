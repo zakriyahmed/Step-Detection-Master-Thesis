{
 "cells": [
  {
   "cell_type": "code",
   "execution_count": 1,
   "id": "0d5e4d4a",
   "metadata": {},
   "outputs": [],
   "source": [
    "%load_ext autoreload\n",
    "\n",
    "%autoreload 2\n",
    "import pandas as pd\n",
    "import numpy as np\n",
    "import os\n",
    "from sklearn.model_selection import train_test_split as tts\n",
    "import torch\n",
    "import torch.nn as nn\n",
    "import torch.optim as optim\n",
    "from copy import deepcopy as dp\n",
    "import time \n",
    "from IPython.display import clear_output\n",
    "import matplotlib.pyplot as plt\n",
    "import dataloader as dt\n",
    "import allmodel as am\n",
    "from scipy import signal as S\n",
    "from torcheval.metrics.functional import multiclass_f1_score as f1\n",
    "import utils\n",
    "import train"
   ]
  },
  {
   "cell_type": "code",
   "execution_count": 2,
   "id": "a2969c0a",
   "metadata": {},
   "outputs": [],
   "source": [
    "import torch\n",
    "import torch.nn as nn\n",
    "import time"
   ]
  },
  {
   "cell_type": "code",
   "execution_count": 3,
   "id": "be9e9597",
   "metadata": {},
   "outputs": [],
   "source": [
    "def count_parameters(model):\n",
    "    return sum(p.numel() for p in model.parameters() if p.requires_grad)\n",
    "def timeM(model,Input):\n",
    "    t = time.time()\n",
    "    out = model(Input)\n",
    "    print(time.time()-t)\n",
    "    return"
   ]
  },
  {
   "cell_type": "code",
   "execution_count": 4,
   "id": "4f2a1f59",
   "metadata": {},
   "outputs": [
    {
     "name": "stdout",
     "output_type": "stream",
     "text": [
      "torch.Size([1, 3136])\n",
      "0.33263635635375977\n",
      "0.0009922981262207031\n",
      "0.005002021789550781\n",
      "2099600 876704 3275887 None None None\n"
     ]
    }
   ],
   "source": [
    "import allmodel as am\n",
    "\n",
    "model =am.LSTM(8, 400, 2, 0.2)\n",
    "modelCNN = am.CNN2h(200,8,(1,8,200))\n",
    "modelYOLO = am.yolo(200,8,(1,8,200))\n",
    "print(count_parameters(model),count_parameters(modelCNN),count_parameters(modelYOLO),\n",
    "    timeM(model,torch.rand((1,200,8))),timeM(modelCNN,torch.rand(1,8,200)),timeM(modelYOLO,torch.rand(1,8,200)))"
   ]
  },
  {
   "cell_type": "code",
   "execution_count": 5,
   "id": "2f4ffbe9",
   "metadata": {},
   "outputs": [],
   "source": [
    "ws=80\n",
    "d = dt.Dataloader(ws,1)\n",
    "d.split(['Person (1)','Person (2)','Person (3)'])\n",
    "d.load()\n",
    "d.binary_labels()\n"
   ]
  },
  {
   "cell_type": "code",
   "execution_count": null,
   "id": "35736cdb",
   "metadata": {},
   "outputs": [
    {
     "name": "stdout",
     "output_type": "stream",
     "text": [
      "Filtering Signal\n",
      "Adding magnitude as feature\n"
     ]
    }
   ],
   "source": [
    "Data,DataC,label,relaxlabel,labelC,relaxlabelC,_,TestData,TestDataC,testlabel,testlabelC,testrelaxlabel,testrelaxlabelC,_ = d.fetch(10,ws,Gyro=False)"
   ]
  },
  {
   "cell_type": "code",
   "execution_count": null,
   "id": "ae9f19a2",
   "metadata": {},
   "outputs": [],
   "source": [
    "DataC = DataC.permute(0,2,1)\n",
    "labelC = labelC.permute(0,2,1)\n",
    "relaxlabelC = relaxlabelC.permute(0,2,1)\n",
    "TestDataC = TestDataC.permute(0,2,1)\n",
    "testlabelC = testlabelC.permute(0,2,1)\n",
    "testrelaxlabelC = testrelaxlabelC.permute(0,2,1)"
   ]
  },
  {
   "cell_type": "code",
   "execution_count": 43,
   "id": "85863f3e",
   "metadata": {},
   "outputs": [
    {
     "data": {
      "text/plain": [
       "torch.Size([2890328, 80, 4])"
      ]
     },
     "execution_count": 43,
     "metadata": {},
     "output_type": "execute_result"
    }
   ],
   "source": [
    "DataC.shape"
   ]
  },
  {
   "cell_type": "code",
   "execution_count": 5,
   "id": "117cb704",
   "metadata": {},
   "outputs": [
    {
     "name": "stdout",
     "output_type": "stream",
     "text": [
      "True labels:\n",
      " 28.102909088134766 28.102909088134766 0.5090569853782654 0.5090569853782654 \n",
      "Relaxed labels:\n",
      " 1.4051510095596313 1.4051510095596313 0.7761970162391663 0.7761970162391663\n"
     ]
    }
   ],
   "source": [
    "\n",
    "ws1,we1,ws0,we0 = utils.count_imbalance(label,'cuda')\n",
    "ws1r,we1r,ws0r,we0r = utils.count_imbalance(relaxlabel,'cuda')\n",
    "\n",
    "print('True labels:\\n',ws1.item(),we1.item(),ws0.item(),we0.item(),'\\nRelaxed labels:\\n',ws1r.item(),we1r.item(),ws0r.item(),we0r.item())"
   ]
  },
  {
   "cell_type": "code",
   "execution_count": 8,
   "id": "ec792998",
   "metadata": {},
   "outputs": [],
   "source": [
    "channel = 4\n",
    "batch_size=1024\n",
    "# Create an instance of the LSTM network\n",
    "model = am.LSTM(channel, 400, 2, 0.2).cuda()\n",
    "modelrelax = am.LSTM(channel, 400, 2, 0.2).cuda()\n"
   ]
  },
  {
   "cell_type": "code",
   "execution_count": 9,
   "id": "02bf8a0d",
   "metadata": {},
   "outputs": [],
   "source": [
    "\n",
    "\n",
    "# Create a DataLoader for batching\n",
    "#dataset = torch.utils.data.TensorDataset(DataC[722582*0:722582*1].float().cuda(), labelC[722582*0:722582*1].float().cuda())\n",
    "#dataloader = torch.utils.data.DataLoader(dataset, batch_size=batch_size, shuffle=True)\n",
    "\n",
    "datasetrelax = torch.utils.data.TensorDataset(DataC[722582*2:722582*3].float().cuda(), relaxlabelC[722582*2:722582*3].float().cuda())\n",
    "dataloaderrelax = torch.utils.data.DataLoader(datasetrelax, batch_size=batch_size, shuffle=True)"
   ]
  },
  {
   "cell_type": "code",
   "execution_count": null,
   "id": "c6495ca2",
   "metadata": {},
   "outputs": [],
   "source": [
    "#model,his = train.train_lstm(model,dataloader,ws0,we0,ws1,we1,lr=0.0001,epochs=5)"
   ]
  },
  {
   "cell_type": "code",
   "execution_count": 16,
   "id": "b0a2466a",
   "metadata": {
    "scrolled": true
   },
   "outputs": [
    {
     "name": "stdout",
     "output_type": "stream",
     "text": [
      "Epoch 1/5 - Loss: 0.276196\n",
      "Epoch 2/5 - Loss: 0.247570\n",
      "Epoch 3/5 - Loss: 0.228397\n",
      "Epoch 4/5 - Loss: 0.214364\n",
      "Epoch 5/5 - Loss: 0.202025\n"
     ]
    }
   ],
   "source": [
    "modelrelax,hisrelax =  train.train_lstm(modelrelax,dataloaderrelax,ws0r,we0r,ws1r,we1r,ws,epochs=5,lr=0.0001)"
   ]
  },
  {
   "cell_type": "code",
   "execution_count": 17,
   "id": "a22e9656",
   "metadata": {},
   "outputs": [
    {
     "data": {
      "text/plain": [
       "[<matplotlib.lines.Line2D at 0x7f23538efa90>]"
      ]
     },
     "execution_count": 17,
     "metadata": {},
     "output_type": "execute_result"
    },
    {
     "data": {
      "image/png": "[encoded data removed]",
      "text/plain": [
       "<Figure size 640x480 with 1 Axes>"
      ]
     },
     "metadata": {},
     "output_type": "display_data"
    }
   ],
   "source": [
    "plt.plot(hisrelax)"
   ]
  },
  {
   "cell_type": "code",
   "execution_count": 32,
   "id": "ed2fc7f4",
   "metadata": {},
   "outputs": [],
   "source": [
    "#testpredictionwoc = get_prediction(model.eval().cpu(),TestData[102091*0:102091*1],200,8)\n",
    "#trainpredictionwoc = get_prediction(model.eval().cpu(),Data,200,8)"
   ]
  },
  {
   "cell_type": "code",
   "execution_count": 19,
   "id": "fba0dcab",
   "metadata": {},
   "outputs": [],
   "source": [
    "relaxtestpredictionwoc = utils.get_predictionLSTM(modelrelax.eval().cpu(),TestData[102091*2:102091*3],ws,channel)\n",
    "#relaxtrainpredictionwoc = utils.get_predictionLSTM(modelrelax.eval().cpu(),Data[722582*2:722582*3],ws,channel)"
   ]
  },
  {
   "cell_type": "code",
   "execution_count": 20,
   "id": "1d886897",
   "metadata": {},
   "outputs": [
    {
     "name": "stdout",
     "output_type": "stream",
     "text": [
      "Test f1 accuracy relaxed:  tensor(0.8634) tensor(0.8617)\n"
     ]
    }
   ],
   "source": [
    "#print('Test f1 accuracy: ',f1(testlabel[204182:306273:,0].cpu(),testpredictionwoc[:,0],num_classes=2),\n",
    "#      f1(testlabel[204182:306273:,1].cpu(),testpredictionwoc[:,1],num_classes=2))\n",
    "\n",
    "print('Test f1 accuracy relaxed: ',f1(testrelaxlabel[102091*2:102091*3,0].cpu(),relaxtestpredictionwoc[:,0],num_classes=2),\n",
    "      f1(testrelaxlabel[102091*2:102091*3,1].cpu(),relaxtestpredictionwoc[:,1],num_classes=2))"
   ]
  },
  {
   "cell_type": "code",
   "execution_count": 22,
   "id": "7d7edde5",
   "metadata": {},
   "outputs": [
    {
     "name": "stdout",
     "output_type": "stream",
     "text": [
      "train f1 accuracy relax:  tensor(0.9502) tensor(0.9494)\n"
     ]
    }
   ],
   "source": [
    "#print('train f1 accuracy: ',f1(label[:,0].cpu(),trainpredictionwoc[:,0],num_classes=2),\n",
    " #     f1(label[:,1].cpu(),trainpredictionwoc[:,1],num_classes=2))\n",
    "\n",
    "print('train f1 accuracy relax: ',f1(relaxlabel[722582*0:722582*4,0].cpu(),relaxtrainpredictionwoc[:,0],num_classes=2),\n",
    "      f1(relaxlabel[722582*0:722582*4,1].cpu(),relaxtrainpredictionwoc[:,1],num_classes=2))"
   ]
  },
  {
   "cell_type": "code",
   "execution_count": null,
   "id": "2700c45b",
   "metadata": {},
   "outputs": [],
   "source": [
    "for i in range(22000,22150):\n",
    "    plt.plot(TestData[i:i+200,3])\n",
    "    plt.plot(relaxtestpredictionwoc[i:i+ws,0].detach().numpy(),color='r')\n",
    "    #plt.plot(relaxlabel[(102091*0)+i:((102091*0)+i)+200,0].detach().numpy(),color='g')\n",
    "    #plt.plot(testpredictionwoc[i:i+200,0].detach().numpy(),color='b')\n",
    "    #plt.plot(midpoints[i:i+200,0].detach().numpy())\n",
    "    plt.plot(testlabel[(102091*0)+i:((102091*0)+i)+ws,0])\n",
    "    plt.show()\n",
    "    clear_output(wait=True)"
   ]
  },
  {
   "cell_type": "code",
   "execution_count": 33,
   "id": "25b8150f",
   "metadata": {},
   "outputs": [],
   "source": [
    "midpoints = utils.find_midpoints(relaxtestpredictionwoc)\n",
    "P_s_index,P_e_index = utils.indexes(midpoints)\n",
    "T_s_index,P_e_index = utils.indexes(testlabel[102091*2:102091*3])"
   ]
  },
  {
   "cell_type": "code",
   "execution_count": 51,
   "id": "53b88a1f",
   "metadata": {},
   "outputs": [
    {
     "name": "stdout",
     "output_type": "stream",
     "text": [
      "06.10.2023 04:48:53 \t 100 True True True False False\n",
      "06.10.2023 04:48:53 \t 100 False True True False False\n",
      "06.10.2023 04:48:53 \t 200 True True True False False\n",
      "06.10.2023 04:48:53 \t 200 False True True False False\n",
      "06.10.2023 04:48:53 \t 100 True True True False False\n",
      "06.10.2023 04:48:53 \t 100 False True True False False\n",
      "06.10.2023 04:48:53 \t 200 True True True False False\n",
      "06.10.2023 04:48:53 \t 200 False True True False False\n",
      "06.10.2023 04:48:53 \t 100 True False True False False\n",
      "06.10.2023 04:48:53 \t 100 False False True False False\n",
      "06.10.2023 04:48:53 \t 200 True False True False False\n",
      "06.10.2023 04:48:53 \t 200 False False True False False\n",
      "06.10.2023 04:48:53 \t 100 True False True False False\n",
      "06.10.2023 04:48:53 \t 100 False False True False False\n",
      "06.10.2023 04:48:53 \t 200 True False True False False\n",
      "06.10.2023 04:48:53 \t 200 False False True False False\n"
     ]
    },
    {
     "data": {
      "text/plain": [
       "16"
      ]
     },
     "execution_count": 51,
     "metadata": {},
     "output_type": "execute_result"
    }
   ],
   "source": [
    "import datetime\n",
    "window_sizes = [100,200]  #2\n",
    "Gyro_settings = [True,False]  #2\n",
    "filter_settings = [True]#,False]  #2\n",
    "magnitude = [True,False]  #2\n",
    "Torelax = [True,False]  #2\n",
    "sensor_settings = [True,False] #2\n",
    "counter = 0\n",
    "for gyro in Gyro_settings:\n",
    "    for filtr in filter_settings:\n",
    "        for JustHand in sensor_settings:\n",
    "            for ws in window_sizes:\n",
    "                for relax in Torelax:\n",
    "                    now = datetime.datetime.now()\n",
    "                    for_now = now.strftime(\"%d.%m.%Y %H:%M:%S\")\n",
    "                    print(for_now,'\\t',ws,relax,gyro,filtr,mag,hand)\n",
    "                    counter+=1\n",
    "counter"
   ]
  },
  {
   "cell_type": "code",
   "execution_count": 36,
   "id": "1d3ac34b",
   "metadata": {},
   "outputs": [],
   "source": [
    "mae,percentage,count,hist = utils.avg_distance(T_s_index,P_s_index,16)"
   ]
  },
  {
   "cell_type": "code",
   "execution_count": 37,
   "id": "2dc50bc4",
   "metadata": {},
   "outputs": [
    {
     "data": {
      "text/plain": [
       "tensor([278., 479., 383., 276., 172.,  88.,  59.,  41.,  29.,  23.,  15.,  14.,\n",
       "          5.,  13.,  13.,  11.])"
      ]
     },
     "execution_count": 37,
     "metadata": {},
     "output_type": "execute_result"
    }
   ],
   "source": [
    "hist"
   ]
  },
  {
   "cell_type": "code",
   "execution_count": 38,
   "id": "9fdc8ef4",
   "metadata": {
    "scrolled": false
   },
   "outputs": [
    {
     "data": {
      "text/plain": [
       "(tensor(2.7177), 0.8970240906943788, 1899, 8468)"
      ]
     },
     "execution_count": 38,
     "metadata": {},
     "output_type": "execute_result"
    },
    {
     "data": {
      "image/png": "[encoded data removed]",
      "text/plain": [
       "<Figure size 640x480 with 1 Axes>"
      ]
     },
     "metadata": {},
     "output_type": "display_data"
    }
   ],
   "source": [
    "plt.bar(range(len(hist)),hist)\n",
    "mae,percentage,count,8468"
   ]
  },
  {
   "cell_type": "code",
   "execution_count": 39,
   "id": "ea95d631",
   "metadata": {},
   "outputs": [
    {
     "data": {
      "image/png": "[encoded data removed]",
      "text/plain": [
       "<Figure size 640x480 with 1 Axes>"
      ]
     },
     "metadata": {},
     "output_type": "display_data"
    }
   ],
   "source": [
    "for i in range(1500,2000):\n",
    "    plt.plot(Data[i:i+ws,2])\n",
    "    plt.vlines(torch.where(midpoints[i:i+ws,0])[0],0,1,color='red')\n",
    "    plt.vlines(torch.where(testlabel[i:i+ws,0])[0],0,1,color='green')\n",
    "    plt.vlines(torch.where(midpoints[i:i+ws,1])[0],0,-1,color='red')\n",
    "    plt.vlines(torch.where(testlabel[i:i+ws,1])[0],0,-1,color='green')\n",
    "    plt.show()\n",
    "    clear_output(wait=True)"
   ]
  },
  {
   "cell_type": "code",
   "execution_count": null,
   "id": "fdddab6e",
   "metadata": {},
   "outputs": [],
   "source": []
  }
 ],
 "metadata": {
  "kernelspec": {
   "display_name": "Python 3 (ipykernel)",
   "language": "python",
   "name": "python3"
  },
  "language_info": {
   "codemirror_mode": {
    "name": "ipython",
    "version": 3
   },
   "file_extension": ".py",
   "mimetype": "text/x-python",
   "name": "python",
   "nbconvert_exporter": "python",
   "pygments_lexer": "ipython3",
   "version": "3.10.9"
  }
 },
 "nbformat": 4,
 "nbformat_minor": 5
}
