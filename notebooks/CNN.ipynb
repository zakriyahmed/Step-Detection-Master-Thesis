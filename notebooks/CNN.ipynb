{
 "cells": [
  {
   "cell_type": "code",
   "execution_count": 1,
   "id": "0d5e4d4a",
   "metadata": {},
   "outputs": [],
   "source": [
    "%load_ext autoreload\n",
    "\n",
    "%autoreload 2\n",
    "import pandas as pd\n",
    "import numpy as np\n",
    "import os\n",
    "from sklearn.model_selection import train_test_split as tts\n",
    "import torch\n",
    "import torch.nn as nn\n",
    "import torch.optim as optim\n",
    "from copy import deepcopy as dp\n",
    "import time \n",
    "from IPython.display import clear_output\n",
    "import matplotlib.pyplot as plt\n",
    "import dataloader as dt\n",
    "import allmodel as am\n",
    "from scipy import signal as S\n",
    "from torcheval.metrics.functional import multiclass_f1_score as f1\n",
    "import utils\n",
    "import train"
   ]
  },
  {
   "cell_type": "code",
   "execution_count": 2,
   "id": "2f4ffbe9",
   "metadata": {},
   "outputs": [],
   "source": [
    "ws=100\n",
    "d = dt.Dataloader(ws,1)\n",
    "d.split(['Person (1)','Person (2)','Person (3)'])\n",
    "d.load()\n",
    "d.binary_labels()\n"
   ]
  },
  {
   "cell_type": "code",
   "execution_count": 3,
   "id": "35736cdb",
   "metadata": {},
   "outputs": [
    {
     "name": "stdout",
     "output_type": "stream",
     "text": [
      "(2890328, 6)\n",
      "Filtering Signal\n",
      "Adding magnitude as feature\n",
      "Data shape : torch.Size([2890328, 4])\n",
      "Test Data shape :torch.Size([408364, 4])\n"
     ]
    }
   ],
   "source": [
    "Data,DataC,label,relaxlabel,labelC,relaxlabelC,_,TestData,TestDataC,testlabel,testlabelC,testrelaxlabel,testrelaxlabelC,_ = d.fetch(10,ws,Gyro=False)"
   ]
  },
  {
   "cell_type": "code",
   "execution_count": 4,
   "id": "117cb704",
   "metadata": {},
   "outputs": [
    {
     "name": "stdout",
     "output_type": "stream",
     "text": [
      "True labels:\n",
      " 28.102909088134766 28.102909088134766 0.5090569853782654 0.5090569853782654 \n",
      "Relaxed labels:\n",
      " 1.4051510095596313 1.4051510095596313 0.7761970162391663 0.7761970162391663\n"
     ]
    }
   ],
   "source": [
    "\n",
    "ws1,we1,ws0,we0 = utils.count_imbalance(label,'cuda')\n",
    "ws1r,we1r,ws0r,we0r = utils.count_imbalance(relaxlabel,'cuda')\n",
    "\n",
    "print('True labels:\\n',ws1.item(),we1.item(),ws0.item(),we0.item(),'\\nRelaxed labels:\\n',ws1r.item(),we1r.item(),ws0r.item(),we0r.item())"
   ]
  },
  {
   "cell_type": "code",
   "execution_count": 5,
   "id": "ec792998",
   "metadata": {},
   "outputs": [],
   "source": [
    "channel = 4\n",
    "batch_size=1024\n",
    "# Create an instance of the LSTM network\n",
    "#model = am.CNN2h(ws,channel,(1,channel,200)).cuda()\n",
    "modelrelax = am.CNN2h(ws,channel,(1,channel,ws)).cuda()\n"
   ]
  },
  {
   "cell_type": "code",
   "execution_count": 6,
   "id": "02bf8a0d",
   "metadata": {},
   "outputs": [],
   "source": [
    "\n",
    "\n",
    "# Create a DataLoader for batching\n",
    "#dataset = torch.utils.data.TensorDataset(DataC[722582*0:722582*1].float().cuda(), labelC[722582*0:722582*1].float().cuda())\n",
    "#dataloader = torch.utils.data.DataLoader(dataset, batch_size=batch_size, shuffle=True)\n",
    "\n",
    "datasetrelax = torch.utils.data.TensorDataset(DataC[722582*0:722582*4].float().cuda(), relaxlabelC[722582*0:722582*4].float().cuda())\n",
    "dataloaderrelax = torch.utils.data.DataLoader(datasetrelax, batch_size=batch_size, shuffle=True)"
   ]
  },
  {
   "cell_type": "code",
   "execution_count": null,
   "id": "c6495ca2",
   "metadata": {},
   "outputs": [],
   "source": [
    "#model,his = trainCNN2h(model,dataloader,ws0,we0,ws1,we1,lr=0.0001,epochs=5)"
   ]
  },
  {
   "cell_type": "code",
   "execution_count": 18,
   "id": "b0a2466a",
   "metadata": {
    "scrolled": true
   },
   "outputs": [
    {
     "name": "stdout",
     "output_type": "stream",
     "text": [
      "Epoch 1/15 - Loss: 0.141851\n",
      "Epoch 2/15 - Loss: 0.141239\n",
      "Epoch 3/15 - Loss: 0.140763\n",
      "Epoch 4/15 - Loss: 0.140251\n",
      "Epoch 5/15 - Loss: 0.139820\n",
      "Epoch 6/15 - Loss: 0.139409\n",
      "Epoch 7/15 - Loss: 0.139018\n",
      "Epoch 8/15 - Loss: 0.138716\n",
      "Epoch 9/15 - Loss: 0.138355\n",
      "Epoch 10/15 - Loss: 0.138015\n",
      "Epoch 11/15 - Loss: 0.137730\n",
      "Epoch 12/15 - Loss: 0.137483\n",
      "Epoch 13/15 - Loss: 0.137226\n",
      "Epoch 14/15 - Loss: 0.136959\n",
      "Epoch 15/15 - Loss: 0.136755\n"
     ]
    }
   ],
   "source": [
    "modelrelax,hisrelax =  train.trainCNN2h(modelrelax,dataloaderrelax,ws0r,we0r,ws1r,we1r,epochs=15,lr=0.0001)"
   ]
  },
  {
   "cell_type": "code",
   "execution_count": 19,
   "id": "a22e9656",
   "metadata": {},
   "outputs": [
    {
     "data": {
      "text/plain": [
       "[<matplotlib.lines.Line2D at 0x7f17aa12d850>]"
      ]
     },
     "execution_count": 19,
     "metadata": {},
     "output_type": "execute_result"
    },
    {
     "data": {
      "image/png": "[encoded data removed]",
      "text/plain": [
       "<Figure size 640x480 with 1 Axes>"
      ]
     },
     "metadata": {},
     "output_type": "display_data"
    }
   ],
   "source": [
    "plt.plot(hisrelax)"
   ]
  },
  {
   "cell_type": "code",
   "execution_count": 32,
   "id": "ed2fc7f4",
   "metadata": {},
   "outputs": [],
   "source": [
    "#testpredictionwoc = get_prediction(model.eval().cpu(),TestData[102091*0:102091*1],200,8)\n",
    "#trainpredictionwoc = get_prediction(model.eval().cpu(),Data,200,8)"
   ]
  },
  {
   "cell_type": "code",
   "execution_count": 20,
   "id": "fba0dcab",
   "metadata": {},
   "outputs": [],
   "source": [
    "relaxtestpredictionwoc = utils.get_prediction(modelrelax.eval().cpu(),TestData[102091*0:102091*4],ws,channel)\n",
    "relaxtrainpredictionwoc = utils.get_prediction(modelrelax.eval().cpu(),Data[722582*0:722582*4],ws,channel)"
   ]
  },
  {
   "cell_type": "code",
   "execution_count": 21,
   "id": "1d886897",
   "metadata": {},
   "outputs": [
    {
     "name": "stdout",
     "output_type": "stream",
     "text": [
      "Test f1 accuracy relaxed:  tensor(0.8954) tensor(0.8927)\n"
     ]
    }
   ],
   "source": [
    "#print('Test f1 accuracy: ',f1(testlabel[204182:306273:,0].cpu(),testpredictionwoc[:,0],num_classes=2),\n",
    "#      f1(testlabel[204182:306273:,1].cpu(),testpredictionwoc[:,1],num_classes=2))\n",
    "\n",
    "print('Test f1 accuracy relaxed: ',f1(testrelaxlabel[102091*0:102091*4,0].cpu(),relaxtestpredictionwoc[:,0],num_classes=2),\n",
    "      f1(testrelaxlabel[102091*0:102091*4,1].cpu(),relaxtestpredictionwoc[:,1],num_classes=2))"
   ]
  },
  {
   "cell_type": "code",
   "execution_count": 22,
   "id": "7d7edde5",
   "metadata": {},
   "outputs": [
    {
     "name": "stdout",
     "output_type": "stream",
     "text": [
      "train f1 accuracy relax:  tensor(0.9502) tensor(0.9494)\n"
     ]
    }
   ],
   "source": [
    "#print('train f1 accuracy: ',f1(label[:,0].cpu(),trainpredictionwoc[:,0],num_classes=2),\n",
    " #     f1(label[:,1].cpu(),trainpredictionwoc[:,1],num_classes=2))\n",
    "\n",
    "print('train f1 accuracy relax: ',f1(relaxlabel[722582*0:722582*4,0].cpu(),relaxtrainpredictionwoc[:,0],num_classes=2),\n",
    "      f1(relaxlabel[722582*0:722582*4,1].cpu(),relaxtrainpredictionwoc[:,1],num_classes=2))"
   ]
  },
  {
   "cell_type": "code",
   "execution_count": null,
   "id": "2700c45b",
   "metadata": {},
   "outputs": [],
   "source": [
    "for i in range(22000,22150):\n",
    "    plt.plot(TestData[i:i+200,3])\n",
    "    plt.plot(relaxtestpredictionwoc[i:i+ws,0].detach().numpy(),color='r')\n",
    "    #plt.plot(relaxlabel[(102091*0)+i:((102091*0)+i)+200,0].detach().numpy(),color='g')\n",
    "    #plt.plot(testpredictionwoc[i:i+200,0].detach().numpy(),color='b')\n",
    "    #plt.plot(midpoints[i:i+200,0].detach().numpy())\n",
    "    plt.plot(testlabel[(102091*0)+i:((102091*0)+i)+ws,0])\n",
    "    plt.show()\n",
    "    clear_output(wait=True)"
   ]
  },
  {
   "cell_type": "code",
   "execution_count": 23,
   "id": "25b8150f",
   "metadata": {},
   "outputs": [],
   "source": [
    "midpoints = utils.find_midpoints(relaxtestpredictionwoc)\n",
    "P_s_index,P_e_index = utils.indexes(midpoints)\n",
    "T_s_index,P_e_index = utils.indexes(testlabel)"
   ]
  },
  {
   "cell_type": "code",
   "execution_count": 30,
   "id": "1d3ac34b",
   "metadata": {},
   "outputs": [],
   "source": [
    "mae,percentage,count,hist = utils.avg_distance(T_s_index,P_s_index,16)"
   ]
  },
  {
   "cell_type": "code",
   "execution_count": 31,
   "id": "2dc50bc4",
   "metadata": {},
   "outputs": [
    {
     "data": {
      "text/plain": [
       "tensor([1458., 2456., 1741., 1043.,  518.,  248.,  150.,  103.,   73.,   58.,\n",
       "          45.,   33.,   22.,   26.,   25.,   19.])"
      ]
     },
     "execution_count": 31,
     "metadata": {},
     "output_type": "execute_result"
    }
   ],
   "source": [
    "hist"
   ]
  },
  {
   "cell_type": "code",
   "execution_count": 32,
   "id": "9fdc8ef4",
   "metadata": {
    "scrolled": false
   },
   "outputs": [
    {
     "data": {
      "text/plain": [
       "(tensor(2.1397), 0.9468587623996221, 8018, 8468)"
      ]
     },
     "execution_count": 32,
     "metadata": {},
     "output_type": "execute_result"
    },
    {
     "data": {
      "image/png": "[encoded data removed]",
      "text/plain": [
       "<Figure size 640x480 with 1 Axes>"
      ]
     },
     "metadata": {},
     "output_type": "display_data"
    }
   ],
   "source": [
    "plt.bar(range(len(hist)),hist)\n",
    "mae,percentage,count,8468"
   ]
  },
  {
   "cell_type": "code",
   "execution_count": 17,
   "id": "ea95d631",
   "metadata": {},
   "outputs": [
    {
     "data": {
      "image/png": "[encoded data removed]",
      "text/plain": [
       "<Figure size 640x480 with 1 Axes>"
      ]
     },
     "metadata": {},
     "output_type": "display_data"
    }
   ],
   "source": [
    "for i in range(1500,2000):\n",
    "    plt.plot(Data[i:i+ws,2])\n",
    "    plt.vlines(torch.where(midpoints[i:i+ws,0])[0],0,1,color='red')\n",
    "    plt.vlines(torch.where(testlabel[i:i+ws,0])[0],0,1,color='green')\n",
    "    plt.vlines(torch.where(midpoints[i:i+ws,1])[0],0,-1,color='red')\n",
    "    plt.vlines(torch.where(testlabel[i:i+ws,1])[0],0,-1,color='green')\n",
    "    plt.show()\n",
    "    clear_output(wait=True)"
   ]
  },
  {
   "cell_type": "code",
   "execution_count": null,
   "id": "fdddab6e",
   "metadata": {},
   "outputs": [],
   "source": []
  }
 ],
 "metadata": {
  "kernelspec": {
   "display_name": "Python 3 (ipykernel)",
   "language": "python",
   "name": "python3"
  },
  "language_info": {
   "codemirror_mode": {
    "name": "ipython",
    "version": 3
   },
   "file_extension": ".py",
   "mimetype": "text/x-python",
   "name": "python",
   "nbconvert_exporter": "python",
   "pygments_lexer": "ipython3",
   "version": "3.10.9"
  }
 },
 "nbformat": 4,
 "nbformat_minor": 5
}
