{
 "cells": [
  {
   "cell_type": "code",
   "execution_count": 2,
   "id": "0d5e4d4a",
   "metadata": {},
   "outputs": [
    {
     "name": "stdout",
     "output_type": "stream",
     "text": [
      "The autoreload extension is already loaded. To reload it, use:\n",
      "  %reload_ext autoreload\n"
     ]
    }
   ],
   "source": [
    "%load_ext autoreload\n",
    "\n",
    "%autoreload 2\n",
    "import pandas as pd\n",
    "import numpy as np\n",
    "import os\n",
    "from sklearn.model_selection import train_test_split as tts\n",
    "import torch\n",
    "import torch.nn as nn\n",
    "import torch.optim as optim\n",
    "from copy import deepcopy as dp\n",
    "import time \n",
    "from IPython.display import clear_output\n",
    "import matplotlib.pyplot as plt\n",
    "import dataloader as dt\n",
    "import allmodel as am\n",
    "from scipy import signal as S\n",
    "from torcheval.metrics.functional import multiclass_f1_score as f1\n",
    "import utils\n",
    "import train\n"
   ]
  },
  {
   "cell_type": "code",
   "execution_count": 3,
   "id": "2f4ffbe9",
   "metadata": {},
   "outputs": [],
   "source": [
    "ws=200\n",
    "d = dt.Dataloader(ws,1)\n",
    "d.split(['Person (1)','Person (2)','Person (3)'])\n",
    "d.load()\n",
    "d.binary_labels()"
   ]
  },
  {
   "cell_type": "code",
   "execution_count": 4,
   "id": "c38d1591",
   "metadata": {},
   "outputs": [
    {
     "name": "stdout",
     "output_type": "stream",
     "text": [
      "(2890328, 6)\n",
      "Filtering Signal\n",
      "Adding magnitude as feature\n",
      "Adding filtered Gyro sensor data\n",
      "Data shape : torch.Size([2890328, 8])\n",
      "Test Data shape :torch.Size([408364, 8])\n"
     ]
    }
   ],
   "source": [
    "Data,DataC,label,_,labelC,_,_,TestData,TestDataC,testlabel,testlabelC,_,_,_ = d.fetch(10,200,Gyro=True)"
   ]
  },
  {
   "cell_type": "code",
   "execution_count": 5,
   "id": "29948ba2",
   "metadata": {},
   "outputs": [
    {
     "name": "stdout",
     "output_type": "stream",
     "text": [
      "0 0 1.3113021850585938e-06\n",
      "40003 1000 0.5387708226839701\n",
      "87175 2000 1.0779167572657267\n",
      "145076 3000 1.6239962697029113\n",
      "198829 4000 2.166283138593038\n",
      "256803 5000 2.7051937023798627\n",
      "308575 6000 3.2456823428471884\n",
      "373635 7000 3.787474246819814\n",
      "444453 8000 4.335604238510132\n",
      "509738 9000 4.875601931413015\n",
      "559257 10000 5.414871072769165\n",
      "612432 11000 5.951562174161276\n",
      "671279 12000 6.493564613660177\n",
      "6.9578702569007875\n"
     ]
    }
   ],
   "source": [
    "yoloLabels = dt.yoloLabeler(label[:int(2890328/4)])"
   ]
  },
  {
   "cell_type": "code",
   "execution_count": 6,
   "id": "6413ea9a",
   "metadata": {},
   "outputs": [
    {
     "name": "stdout",
     "output_type": "stream",
     "text": [
      "0 0 8.362134297688802e-05\n",
      "44397 1000 0.5381109674771627\n",
      "94363 2000 1.0760902841885884\n",
      "1.1411605914433798\n"
     ]
    }
   ],
   "source": [
    "yolotestlabels = dt.yoloLabeler(testlabel[:102091])"
   ]
  },
  {
   "cell_type": "code",
   "execution_count": 8,
   "id": "ec792998",
   "metadata": {},
   "outputs": [
    {
     "name": "stdout",
     "output_type": "stream",
     "text": [
      "torch.Size([1, 3136])\n"
     ]
    }
   ],
   "source": [
    "ws=200\n",
    "channel = 8\n",
    "batch_size=256\n",
    "model = am.yolo(ws,channel,(1,channel,ws)).cuda()"
   ]
  },
  {
   "cell_type": "code",
   "execution_count": 9,
   "id": "02bf8a0d",
   "metadata": {},
   "outputs": [],
   "source": [
    "#dataset = torch.utils.data.TensorDataset(DataC.float().cuda(), labelC.float().cuda())\n",
    "#dataloader = torch.utils.data.DataLoader(dataset, batch_size=batch_size, shuffle=True)\n",
    "\n",
    "datasetrelax = torch.utils.data.TensorDataset(DataC[:int(2890328/4)].float().cuda(), torch.tensor(yoloLabels).float().cuda())\n",
    "dataloaderrelax = torch.utils.data.DataLoader(datasetrelax, batch_size=batch_size, shuffle=True)"
   ]
  },
  {
   "cell_type": "code",
   "execution_count": 29,
   "id": "c6495ca2",
   "metadata": {
    "scrolled": true
   },
   "outputs": [
    {
     "name": "stdout",
     "output_type": "stream",
     "text": [
      "Epoch 1/50 - Loss: 0.023600\n",
      "Epoch 2/50 - Loss: 0.023464\n",
      "Epoch 3/50 - Loss: 0.023245\n",
      "Epoch 4/50 - Loss: 0.023088\n",
      "Epoch 5/50 - Loss: 0.023114\n",
      "Epoch 6/50 - Loss: 0.022965\n",
      "Epoch 7/50 - Loss: 0.022773\n",
      "Epoch 8/50 - Loss: 0.022694\n",
      "Epoch 9/50 - Loss: 0.022627\n",
      "Epoch 10/50 - Loss: 0.022482\n",
      "Epoch 11/50 - Loss: 0.022365\n",
      "Epoch 12/50 - Loss: 0.022291\n",
      "Epoch 13/50 - Loss: 0.022191\n",
      "Epoch 14/50 - Loss: 0.022048\n",
      "Epoch 15/50 - Loss: 0.021946\n",
      "Epoch 16/50 - Loss: 0.021891\n",
      "Epoch 17/50 - Loss: 0.021827\n",
      "Epoch 18/50 - Loss: 0.021761\n",
      "Epoch 19/50 - Loss: 0.021682\n",
      "Epoch 20/50 - Loss: 0.021593\n",
      "Epoch 21/50 - Loss: 0.021455\n",
      "Epoch 22/50 - Loss: 0.021440\n",
      "Epoch 23/50 - Loss: 0.021358\n",
      "Epoch 24/50 - Loss: 0.021220\n",
      "Epoch 25/50 - Loss: 0.021062\n",
      "Epoch 26/50 - Loss: 0.020900\n",
      "Epoch 27/50 - Loss: 0.020841\n",
      "Epoch 28/50 - Loss: 0.020756\n",
      "Epoch 29/50 - Loss: 0.020729\n",
      "Epoch 30/50 - Loss: 0.020622\n",
      "Epoch 31/50 - Loss: 0.020622\n",
      "Epoch 32/50 - Loss: 0.020441\n",
      "Epoch 33/50 - Loss: 0.020410\n",
      "Epoch 34/50 - Loss: 0.020313\n",
      "Epoch 35/50 - Loss: 0.020268\n",
      "Epoch 36/50 - Loss: 0.020208\n",
      "Epoch 37/50 - Loss: 0.020188\n",
      "Epoch 38/50 - Loss: 0.020063\n",
      "Epoch 39/50 - Loss: 0.020107\n",
      "Epoch 40/50 - Loss: 0.019979\n",
      "Epoch 41/50 - Loss: 0.019880\n",
      "Epoch 42/50 - Loss: 0.019833\n",
      "Epoch 43/50 - Loss: 0.019818\n",
      "Epoch 44/50 - Loss: 0.019659\n",
      "Epoch 45/50 - Loss: 0.019694\n",
      "Epoch 46/50 - Loss: 0.019681\n",
      "Epoch 47/50 - Loss: 0.019567\n",
      "Epoch 48/50 - Loss: 0.019497\n",
      "Epoch 49/50 - Loss: 0.019497\n",
      "Epoch 50/50 - Loss: 0.019478\n"
     ]
    }
   ],
   "source": [
    "model,his = train.trainYolo(model.cuda(),dataloaderrelax,epochs=50,lr=0.001)"
   ]
  },
  {
   "cell_type": "code",
   "execution_count": 30,
   "id": "26f693bb",
   "metadata": {},
   "outputs": [],
   "source": [
    "g=torch.tensor([0,40,80,120,160,0,40,80,120,160])\n",
    "predtestlabels = utils.get_yolo_prediction(model,TestData[:102109],channel,ws,ws,g,x_size=39,w_size=53)\n"
   ]
  },
  {
   "cell_type": "code",
   "execution_count": 31,
   "id": "1753cb30",
   "metadata": {},
   "outputs": [
    {
     "data": {
      "text/plain": [
       "(torch.Size([2075]), torch.Size([2085]))"
      ]
     },
     "execution_count": 31,
     "metadata": {},
     "output_type": "execute_result"
    }
   ],
   "source": [
    "P_s_index,P_e_index = utils.indexes(predtestlabels)\n",
    "T_s_index,T_e_index = utils.indexes(testlabel[:102109])\n",
    "P_s_index.shape,P_e_index.shape"
   ]
  },
  {
   "cell_type": "code",
   "execution_count": 32,
   "id": "2d1c765d",
   "metadata": {},
   "outputs": [],
   "source": [
    "mae,percentage,count,hist = utils.avg_distance(T_s_index,P_s_index,15)"
   ]
  },
  {
   "cell_type": "code",
   "execution_count": 33,
   "id": "2d1bf820",
   "metadata": {},
   "outputs": [
    {
     "data": {
      "text/plain": [
       "tensor([214., 383., 369., 298., 220., 118., 103.,  71.,  48.,  57.,  27.,  35.,\n",
       "         21.,  20.,  19.])"
      ]
     },
     "execution_count": 33,
     "metadata": {},
     "output_type": "execute_result"
    }
   ],
   "source": [
    "hist"
   ]
  },
  {
   "cell_type": "code",
   "execution_count": 34,
   "id": "0d32e60d",
   "metadata": {},
   "outputs": [
    {
     "data": {
      "text/plain": [
       "(tensor(3.4598), 0.9461502125649504, 2003)"
      ]
     },
     "execution_count": 34,
     "metadata": {},
     "output_type": "execute_result"
    },
    {
     "data": {
      "image/png": "[encoded data removed]",
      "text/plain": [
       "<Figure size 640x480 with 1 Axes>"
      ]
     },
     "metadata": {},
     "output_type": "display_data"
    }
   ],
   "source": [
    "plt.bar(range(15),hist)\n",
    "mae,percentage,count"
   ]
  },
  {
   "cell_type": "code",
   "execution_count": 304,
   "id": "f189b35e",
   "metadata": {},
   "outputs": [
    {
     "data": {
      "text/plain": [
       "tensor([[[ 2., -1.,  0.],\n",
       "         [16., 24.,  1.],\n",
       "         [ 1., 22.,  1.],\n",
       "         [17., 23.,  1.],\n",
       "         [26., 21.,  1.],\n",
       "         [ 0.,  0., -0.],\n",
       "         [-0.,  0., -0.],\n",
       "         [ 0.,  0., -0.],\n",
       "         [-0.,  0., -0.],\n",
       "         [-0.,  1.,  0.]]], grad_fn=<RoundBackward0>)"
      ]
     },
     "execution_count": 304,
     "metadata": {},
     "output_type": "execute_result"
    }
   ],
   "source": [
    "here=650\n",
    "there=here+1\n",
    "model= model.cpu().eval()\n",
    "pred = model(TestDataC[here:there])\n",
    "torch.round(pred.cpu()*torch.tensor([39,53,1]))\n"
   ]
  },
  {
   "cell_type": "code",
   "execution_count": 305,
   "id": "9073522b",
   "metadata": {},
   "outputs": [
    {
     "data": {
      "text/plain": [
       "array([[ 0.,  0.,  0.],\n",
       "       [ 0.,  0.,  0.],\n",
       "       [12., 22.,  1.],\n",
       "       [20., 24.,  1.],\n",
       "       [27., 21.,  1.]])"
      ]
     },
     "execution_count": 305,
     "metadata": {},
     "output_type": "execute_result"
    }
   ],
   "source": [
    "yolotestlabels[here,:,0]#/[39,58,1],yoloLabels[11512,:,1]/[39,58,1]#.reshape(5,6)"
   ]
  },
  {
   "cell_type": "code",
   "execution_count": 306,
   "id": "4278039f",
   "metadata": {},
   "outputs": [
    {
     "name": "stdout",
     "output_type": "stream",
     "text": [
      "[  0.   0.  70. 116. 166.] \n",
      " [  0.   0. 114. 164. 208.]\n",
      "[  0.  32.  59. 114. 165.  -0.  -0.  -0.  -0.   0.] \n",
      " [  0.  81. 103. 161. 208.  -0.  -0.  -0.  -0.   0.]\n"
     ]
    },
    {
     "data": {
      "text/plain": [
       "array([ 3.1353235e-02,  9.2542058e-01,  9.8313558e-01,  9.9527979e-01,\n",
       "        9.9423862e-01, -1.1711560e-02, -3.6108188e-02, -3.8865709e-04,\n",
       "       -1.4237720e-03,  3.5173078e-03], dtype=float32)"
      ]
     },
     "execution_count": 306,
     "metadata": {},
     "output_type": "execute_result"
    }
   ],
   "source": [
    "# start = ((x+G)-w)*c\n",
    "conf = pred[0,:,2].cpu().detach().numpy()\n",
    "#conf[conf<0.5]=0\n",
    "confiscore = dp(conf)\n",
    "conf = np.round(conf)\n",
    "#conf[conf>=0.5]=1\n",
    "x = pred[0,:,0].cpu().detach().numpy()*39\n",
    "w = pred[0,:,1].cpu().detach().numpy()*53\n",
    "g = np.array([0,40,80,120,160,0,40,80,120,160])\n",
    "gt = np.array([[0,40,80,120,160],[0,40,80,120,160]])\n",
    "startp = np.round(((x+g.T)-w)*conf)\n",
    "endp = np.round(((x+g.T)+w)*conf)\n",
    "Tstart = np.round(((yolotestlabels[here,:,:,0]+gt.T)-yolotestlabels[here,:,:,1])*yolotestlabels[here,:,:,2])\n",
    "Tend = np.round(((yolotestlabels[here,:,:,0]+gt.T)+yolotestlabels[here,:,:,1])*yolotestlabels[here,:,:,2])\n",
    "#startpall = np.concatenate((startp[:,0],startp[:,1]))#[startp[:,1]>0]))\n",
    "tstartall = np.concatenate((Tstart[:,0],Tstart[:,1][Tstart[:,1]>0]))\n",
    "#endpall = np.concatenate((endp[:,0],endp[:,1]))#[endp[:,1]>0]))\n",
    "tendall = np.concatenate((Tend[:,0],Tend[:,1][Tend[:,1]>0]))\n",
    "print(tstartall,'\\n',tendall)\n",
    "print(startp,'\\n',endp)\n",
    "confiscore"
   ]
  },
  {
   "cell_type": "code",
   "execution_count": 307,
   "id": "791d335f",
   "metadata": {},
   "outputs": [
    {
     "data": {
      "text/plain": [
       "(array([  0.,   0.,  70., 116., 166.]),\n",
       " array([  0.,   0., 114., 164., 208.]),\n",
       " array([  0.,   0.,   0.,   0.,   0.,   0.,  32.,  59., 114., 165.]),\n",
       " array([  0.,   0.,   0.,   0.,   0.,   0.,  81., 103., 161., 208.]),\n",
       " array([ 0., -0., -0., -0., -0.,  0.,  1.,  1.,  1.,  1.], dtype=float32))"
      ]
     },
     "execution_count": 307,
     "metadata": {},
     "output_type": "execute_result"
    }
   ],
   "source": [
    "sortindexes = np.argsort(startp)\n",
    "sstart = startp[sortindexes]\n",
    "send = endp[sortindexes]\n",
    "confsort = confiscore.flatten('F')[sortindexes]\n",
    "\n",
    "new = []\n",
    "pre_s = sstart[0]\n",
    "pred_e = send[0]\n",
    "for i in range(len(sstart)):\n",
    "    for j in range(len(sstart)):\n",
    "        if send[i]>=sstart[j] and sstart[i]<=send[j] and sstart[i]>=send[i] and i!=j:\n",
    "        #if sstart[i]>=sstart[j] and send[i]<=send[j]:\n",
    "            new.append([i,j])\n",
    "tstartall,tendall,sstart*np.round(confsort),send*np.round(confsort),np.round(confsort)"
   ]
  },
  {
   "cell_type": "code",
   "execution_count": 308,
   "id": "3a635423",
   "metadata": {},
   "outputs": [
    {
     "data": {
      "image/png": "[encoded data removed]",
      "text/plain": [
       "<Figure size 640x480 with 1 Axes>"
      ]
     },
     "metadata": {},
     "output_type": "display_data"
    }
   ],
   "source": [
    "def wave(sstart,send,size=200):\n",
    "    wave = np.zeros((len(sstart),size))\n",
    "    for i in range(len(sstart)):\n",
    "        #print(np.int64(sstart[abs(i)]),np.int64(send[i]))\n",
    "        wave[i,np.int64(sstart[i]):np.int64(send[i])]=1\n",
    "    return wave.T\n",
    "plt.plot(wave(sstart,send)*confsort)\n",
    "plt.plot(wave(tstartall,tendall),c='red')\n",
    "plt.show()"
   ]
  },
  {
   "cell_type": "code",
   "execution_count": 77,
   "id": "d59cddac",
   "metadata": {},
   "outputs": [
    {
     "data": {
      "text/plain": [
       "array([[0., 0., 0., ..., 0., 0., 0.],\n",
       "       [0., 0., 0., ..., 0., 0., 0.],\n",
       "       [0., 0., 0., ..., 0., 0., 0.],\n",
       "       ...,\n",
       "       [0., 0., 0., ..., 0., 0., 0.],\n",
       "       [0., 0., 0., ..., 0., 0., 0.],\n",
       "       [0., 0., 0., ..., 0., 0., 0.]])"
      ]
     },
     "execution_count": 77,
     "metadata": {},
     "output_type": "execute_result"
    }
   ],
   "source": [
    "wave(sstart,send)"
   ]
  },
  {
   "cell_type": "code",
   "execution_count": 319,
   "id": "d6b15702",
   "metadata": {},
   "outputs": [
    {
     "data": {
      "text/plain": [
       "<matplotlib.collections.LineCollection at 0x7f2896ed9c50>"
      ]
     },
     "execution_count": 319,
     "metadata": {},
     "output_type": "execute_result"
    },
    {
     "data": {
      "image/png": "[encoded data removed]",
      "text/plain": [
       "<Figure size 640x480 with 1 Axes>"
      ]
     },
     "metadata": {},
     "output_type": "display_data"
    }
   ],
   "source": [
    "\n",
    "plt.vlines(startp,0,1,color='blue')\n",
    "\n",
    "plt.vlines(tstartall,0,1,color='green')\n",
    "\n",
    "\n",
    "plt.vlines(endp,0,-1,color='blue')\n",
    "\n",
    "plt.vlines(tendall,0,-1,color='purple')"
   ]
  },
  {
   "cell_type": "code",
   "execution_count": 391,
   "id": "8c308e19",
   "metadata": {},
   "outputs": [
    {
     "data": {
      "image/png": "[encoded data removed]",
      "text/plain": [
       "<Figure size 576x480 with 1 Axes>"
      ]
     },
     "metadata": {},
     "output_type": "display_data"
    },
    {
     "data": {
      "text/plain": [
       "torch.Size([64, 45])"
      ]
     },
     "execution_count": 391,
     "metadata": {},
     "output_type": "execute_result"
    }
   ],
   "source": [
    "#plt.subplot(1,2,1)\n",
    "plt.matshow(model(DataC[512:513].cuda()).cpu().detach()[0]*torch.tensor([1,1,39,39,58,58]))\n",
    "#plt.subplot(1,2,2)\n",
    "#plt.plot(DataC[512,0],range(200))\n",
    "plt.show()\n",
    "model.block2(model.block1(DataC[512:513].cuda())).cpu().detach()[0].shape"
   ]
  },
  {
   "cell_type": "code",
   "execution_count": 282,
   "id": "cee23a54",
   "metadata": {},
   "outputs": [
    {
     "data": {
      "text/plain": [
       "[<matplotlib.lines.Line2D at 0x7f28938743d0>]"
      ]
     },
     "execution_count": 282,
     "metadata": {},
     "output_type": "execute_result"
    },
    {
     "data": {
      "image/png": "[encoded data removed]",
      "text/plain": [
       "<Figure size 640x480 with 1 Axes>"
      ]
     },
     "metadata": {},
     "output_type": "display_data"
    }
   ],
   "source": [
    "plt.plot(his[0][30:],c='b')\n",
    "plt.plot(his[1][30:],c='g')\n",
    "plt.plot(his[2][30:],c='r')\n",
    "plt.plot(his[3][30:],c='brown')"
   ]
  },
  {
   "cell_type": "code",
   "execution_count": 11,
   "id": "ed2fc7f4",
   "metadata": {},
   "outputs": [],
   "source": [
    "testpredictionwoc = get_prediction(model.eval().cpu(),TestData,200)\n",
    "trainpredictionwoc = get_prediction(model.eval().cpu(),Data,200)"
   ]
  },
  {
   "cell_type": "code",
   "execution_count": 319,
   "id": "1d886897",
   "metadata": {},
   "outputs": [
    {
     "name": "stdout",
     "output_type": "stream",
     "text": [
      "Test f1 accuracy:  tensor(0.9553) tensor(0.9550)\n"
     ]
    }
   ],
   "source": [
    "print('Test f1 accuracy: ',f1(testlabel[:102091,0].cpu(),predtestlabels[:,0],num_classes=2),\n",
    "      f1(testlabel[:102091,1].cpu(),predtestlabels[:,1],num_classes=2))\n",
    "\n"
   ]
  },
  {
   "cell_type": "code",
   "execution_count": 14,
   "id": "7d7edde5",
   "metadata": {},
   "outputs": [
    {
     "name": "stdout",
     "output_type": "stream",
     "text": [
      "train f1 accuracy:  tensor(0.8340) tensor(0.8335)\n",
      "train f1 accuracy relax:  tensor(0.9501) tensor(0.9496)\n"
     ]
    }
   ],
   "source": [
    "print('train f1 accuracy: ',f1(label[:,0].cpu(),trainpredictionwoc[:,0],num_classes=2),\n",
    "      f1(label[:,1].cpu(),trainpredictionwoc[:,1],num_classes=2))\n",
    "\n"
   ]
  }
 ],
 "metadata": {
  "kernelspec": {
   "display_name": "Python 3 (ipykernel)",
   "language": "python",
   "name": "python3"
  },
  "language_info": {
   "codemirror_mode": {
    "name": "ipython",
    "version": 3
   },
   "file_extension": ".py",
   "mimetype": "text/x-python",
   "name": "python",
   "nbconvert_exporter": "python",
   "pygments_lexer": "ipython3",
   "version": "3.10.9"
  }
 },
 "nbformat": 4,
 "nbformat_minor": 5
}
